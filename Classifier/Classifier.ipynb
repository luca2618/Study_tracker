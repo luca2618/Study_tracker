{
 "cells": [
  {
   "cell_type": "code",
   "execution_count": null,
   "metadata": {},
   "outputs": [],
   "source": [
    "import pandas as pd\n",
    "import math\n",
    "import numpy as np\n",
    "from sklearn.feature_extraction.text import CountVectorizer\n",
    "from sklearn.feature_extraction.text import TfidfVectorizer\n",
    "from sklearn.model_selection import KFold\n",
    "from sklearn.model_selection import train_test_split\n",
    "from sklearn.model_selection import GridSearchCV\n",
    "from sklearn.pipeline import Pipeline\n",
    "\n",
    "from sklearn.linear_model import LogisticRegression\n",
    "from sklearn.linear_model import Perceptron\n",
    "from sklearn.svm import LinearSVC\n",
    "from sklearn.pipeline import make_pipeline\n",
    "from sklearn.preprocessing import StandardScaler\n",
    "import warnings\n",
    "warnings.simplefilter(\"ignore\")\n",
    "\n",
    "import nltk\n",
    "from nltk.stem import WordNetLemmatizer\n",
    "from nltk.stem import PorterStemmer\n",
    "from nltk import word_tokenize\n",
    "import string"
   ]
  },
  {
   "cell_type": "code",
   "execution_count": null,
   "metadata": {},
   "outputs": [],
   "source": [
    "#Tokenizer with added lemmatization and stemming options\n",
    "class My_Tokenizer(object):\n",
    "    def __init__(self, lemma=False, stem=False):\n",
    "        self.lemma = lemma\n",
    "        self.stem = stem\n",
    "        self.Lemmatizer = WordNetLemmatizer()\n",
    "        self.Stemmer = PorterStemmer()\n",
    "        self.translate_table = dict((ord(char), None) for char in string.punctuation)  \n",
    "    def __call__(self, sentence):\n",
    "        #remove punctuation\n",
    "        sentence = sentence.translate(self.translate_table)\n",
    "        if self.lemma:\n",
    "            return [self.Lemmatizer.lemmatize(t) for t in word_tokenize(sentence)]\n",
    "        elif self.stem:\n",
    "            return [self.Stemmer.stem(t) for t in word_tokenize(sentence)]\n",
    "        else:\n",
    "            return [t for t in word_tokenize(sentence)]"
   ]
  },
  {
   "cell_type": "code",
   "execution_count": 13,
   "metadata": {},
   "outputs": [
    {
     "name": "stdout",
     "output_type": "stream",
     "text": [
      "['unproductive' 'unproductive' 'unproductive' ... 'unproductive'\n",
      " 'unproductive' 'unproductive']\n",
      "0.9803370786516854\n"
     ]
    }
   ],
   "source": [
    "\n",
    "\n",
    "dataset = pd.read_csv(\"dataset.csv\")\n",
    "\n",
    "X = dataset[\"X\"].to_numpy()\n",
    "Y = dataset[\"Y\"].to_numpy()\n",
    "\n",
    "#split into train and test dataset\n",
    "X_train, X_test, Y_train, Y_test = train_test_split(X, Y, test_size=0.15, random_state=42, shuffle=True)\n",
    "\n",
    "#Preprocessing methods\n",
    "method1 = TfidfVectorizer(tokenizer=My_Tokenizer(),stop_words=\"english\", lowercase=True, strip_accents=\"unicode\") \n",
    "method2 = TfidfVectorizer(tokenizer=My_Tokenizer(stem=True),stop_words=\"english\", lowercase=True, strip_accents=\"unicode\")\n",
    "method3 = TfidfVectorizer(tokenizer=My_Tokenizer(lemma=True),stop_words=\"english\", lowercase=True, strip_accents=\"unicode\")\n",
    "dataset_methods = [method1, method2, method3]\n",
    "#print(dataset_methods)\n",
    "vectorizer = method1\n",
    "print(Y_train)\n",
    "X_train = vectorizer.fit_transform(X_train)\n",
    "X_test = vectorizer.transform(X_test)\n",
    "\n",
    "model = LogisticRegression()\n",
    "\n",
    "model.fit(X_train,Y_train)\n",
    "\n",
    "print(sum(model.predict(X_test) == Y_test)/len(Y_test))\n",
    "\n",
    "\n",
    "\n",
    "\n",
    "\n"
   ]
  },
  {
   "cell_type": "code",
   "execution_count": null,
   "metadata": {},
   "outputs": [],
   "source": [
    "unique, counts = np.unique(Y, return_counts=True)\n",
    "print(unique)\n",
    "print(counts)"
   ]
  }
 ],
 "metadata": {
  "kernelspec": {
   "display_name": "NPL",
   "language": "python",
   "name": "python3"
  },
  "language_info": {
   "codemirror_mode": {
    "name": "ipython",
    "version": 3
   },
   "file_extension": ".py",
   "mimetype": "text/x-python",
   "name": "python",
   "nbconvert_exporter": "python",
   "pygments_lexer": "ipython3",
   "version": "3.11.4"
  },
  "orig_nbformat": 4
 },
 "nbformat": 4,
 "nbformat_minor": 2
}
