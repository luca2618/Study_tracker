{
 "cells": [
  {
   "cell_type": "code",
   "execution_count": 10,
   "metadata": {},
   "outputs": [],
   "source": [
    "import pandas as pd\n",
    "import math\n",
    "import numpy as np\n",
    "from sklearn.feature_extraction.text import CountVectorizer\n",
    "from sklearn.feature_extraction.text import TfidfVectorizer\n",
    "from sklearn.model_selection import KFold\n",
    "from sklearn.model_selection import train_test_split\n",
    "from sklearn.model_selection import GridSearchCV\n",
    "from sklearn.neighbors import KNeighborsClassifier as KNN\n",
    "from sklearn.pipeline import Pipeline\n",
    "from sklearn.neural_network import MLPClassifier\n",
    "\n",
    "from sklearn.linear_model import LogisticRegression\n",
    "from sklearn.linear_model import Perceptron\n",
    "from sklearn.svm import LinearSVC\n",
    "from sklearn.pipeline import make_pipeline\n",
    "from sklearn.preprocessing import StandardScaler\n",
    "import warnings\n",
    "warnings.simplefilter(\"ignore\")\n",
    "\n",
    "import nltk\n",
    "from nltk.stem import WordNetLemmatizer\n",
    "from nltk.stem import PorterStemmer\n",
    "from nltk import word_tokenize\n",
    "import string"
   ]
  },
  {
   "cell_type": "code",
   "execution_count": 11,
   "metadata": {},
   "outputs": [],
   "source": [
    "#Tokenizer with added lemmatization and stemming options\n",
    "class My_Tokenizer(object):\n",
    "    def __init__(self, lemma=False, stem=False):\n",
    "        self.lemma = lemma\n",
    "        self.stem = stem\n",
    "        self.Lemmatizer = WordNetLemmatizer()\n",
    "        self.Stemmer = PorterStemmer()\n",
    "        self.translate_table = dict((ord(char), None) for char in string.punctuation)  \n",
    "    def __call__(self, sentence):\n",
    "        #remove punctuation\n",
    "        sentence = sentence.translate(self.translate_table)\n",
    "        if self.lemma:\n",
    "            return [self.Lemmatizer.lemmatize(t) for t in word_tokenize(sentence)]\n",
    "        elif self.stem:\n",
    "            return [self.Stemmer.stem(t) for t in word_tokenize(sentence)]\n",
    "        else:\n",
    "            return [t for t in word_tokenize(sentence)]"
   ]
  },
  {
   "cell_type": "code",
   "execution_count": 12,
   "metadata": {},
   "outputs": [
    {
     "name": "stdout",
     "output_type": "stream",
     "text": [
      "Loading Glove Model\n",
      "400000 words loaded!\n"
     ]
    }
   ],
   "source": [
    "def load_glove_model(File):\n",
    "    print(\"Loading Glove Model\")\n",
    "    glove_model = {}\n",
    "    with open(File,'r') as f:\n",
    "        for line in f:\n",
    "            split_line = line.split()\n",
    "            word = split_line[0]\n",
    "            embedding = np.array(split_line[1:], dtype=np.float64)\n",
    "            glove_model[word] = embedding\n",
    "    print(f\"{len(glove_model)} words loaded!\")\n",
    "    return glove_model\n",
    "\n",
    "glove_loaded = load_glove_model(\"glove.6B.300d.txt\")"
   ]
  },
  {
   "cell_type": "code",
   "execution_count": 14,
   "metadata": {},
   "outputs": [],
   "source": [
    "import pickle\n",
    "with open('data.pickle', 'wb') as f:\n",
    "    pickle.dump(glove_loaded, f, pickle.HIGHEST_PROTOCOL)\n",
    "f.close()"
   ]
  },
  {
   "cell_type": "code",
   "execution_count": 25,
   "metadata": {},
   "outputs": [],
   "source": [
    "with open('data.pickle', 'r') as f:\n",
    "    glove_loaded = f\n"
   ]
  },
  {
   "cell_type": "code",
   "execution_count": 28,
   "metadata": {},
   "outputs": [],
   "source": [
    "\n",
    "\n",
    "\n",
    "class glove():\n",
    "    def __init__(self) -> None:\n",
    "        #self.glove = glove_loaded\n",
    "        with open('data.pickle', 'r') as f:\n",
    "            self.glove = pickle.load(f)\n",
    "        self.tokenizer = My_Tokenizer()\n",
    "    def fit():\n",
    "        pass\n",
    "    def fit_transform(self, data):\n",
    "        return self.transform(data)\n",
    "    def transform(self, data):\n",
    "        results = []\n",
    "        for document in data:\n",
    "            document = self.tokenizer(document)\n",
    "            vector = np.zeros(300)\n",
    "            for word in document:\n",
    "                if word in self.glove:\n",
    "                    vector += self.glove[word]\n",
    "            results.append(vector)\n",
    "        results = np.array(results)\n",
    "        return results\n",
    "\n"
   ]
  },
  {
   "cell_type": "code",
   "execution_count": 29,
   "metadata": {},
   "outputs": [
    {
     "name": "stdout",
     "output_type": "stream",
     "text": [
      "['unproductive' 'unproductive' 'unproductive' ... 'unproductive'\n",
      " 'unproductive' 'unproductive']\n"
     ]
    },
    {
     "ename": "ValueError",
     "evalue": "I/O operation on closed file.",
     "output_type": "error",
     "traceback": [
      "\u001b[1;31m---------------------------------------------------------------------------\u001b[0m",
      "\u001b[1;31mValueError\u001b[0m                                Traceback (most recent call last)",
      "\u001b[1;32mc:\\Users\\Lenovo\\OneDrive\\Skrivebord\\Study_tracker\\Classifier\\Classifier.ipynb Cell 7\u001b[0m line \u001b[0;36m1\n\u001b[0;32m     <a href='vscode-notebook-cell:/c%3A/Users/Lenovo/OneDrive/Skrivebord/Study_tracker/Classifier/Classifier.ipynb#X51sZmlsZQ%3D%3D?line=15'>16</a>\u001b[0m vectorizer \u001b[39m=\u001b[39m method4\n\u001b[0;32m     <a href='vscode-notebook-cell:/c%3A/Users/Lenovo/OneDrive/Skrivebord/Study_tracker/Classifier/Classifier.ipynb#X51sZmlsZQ%3D%3D?line=16'>17</a>\u001b[0m \u001b[39mprint\u001b[39m(Y_train)\n\u001b[1;32m---> <a href='vscode-notebook-cell:/c%3A/Users/Lenovo/OneDrive/Skrivebord/Study_tracker/Classifier/Classifier.ipynb#X51sZmlsZQ%3D%3D?line=17'>18</a>\u001b[0m X_train \u001b[39m=\u001b[39m vectorizer\u001b[39m.\u001b[39;49mfit_transform(X_train)\n\u001b[0;32m     <a href='vscode-notebook-cell:/c%3A/Users/Lenovo/OneDrive/Skrivebord/Study_tracker/Classifier/Classifier.ipynb#X51sZmlsZQ%3D%3D?line=18'>19</a>\u001b[0m X_test \u001b[39m=\u001b[39m vectorizer\u001b[39m.\u001b[39mtransform(X_test)\n\u001b[0;32m     <a href='vscode-notebook-cell:/c%3A/Users/Lenovo/OneDrive/Skrivebord/Study_tracker/Classifier/Classifier.ipynb#X51sZmlsZQ%3D%3D?line=20'>21</a>\u001b[0m model \u001b[39m=\u001b[39m KNN(n_neighbors\u001b[39m=\u001b[39m\u001b[39m5\u001b[39m)\n",
      "\u001b[1;32mc:\\Users\\Lenovo\\OneDrive\\Skrivebord\\Study_tracker\\Classifier\\Classifier.ipynb Cell 7\u001b[0m line \u001b[0;36m1\n\u001b[0;32m      <a href='vscode-notebook-cell:/c%3A/Users/Lenovo/OneDrive/Skrivebord/Study_tracker/Classifier/Classifier.ipynb#X51sZmlsZQ%3D%3D?line=8'>9</a>\u001b[0m \u001b[39mdef\u001b[39;00m \u001b[39mfit_transform\u001b[39m(\u001b[39mself\u001b[39m, data):\n\u001b[1;32m---> <a href='vscode-notebook-cell:/c%3A/Users/Lenovo/OneDrive/Skrivebord/Study_tracker/Classifier/Classifier.ipynb#X51sZmlsZQ%3D%3D?line=9'>10</a>\u001b[0m     \u001b[39mreturn\u001b[39;00m \u001b[39mself\u001b[39;49m\u001b[39m.\u001b[39;49mtransform(data)\n",
      "\u001b[1;32mc:\\Users\\Lenovo\\OneDrive\\Skrivebord\\Study_tracker\\Classifier\\Classifier.ipynb Cell 7\u001b[0m line \u001b[0;36m1\n\u001b[0;32m     <a href='vscode-notebook-cell:/c%3A/Users/Lenovo/OneDrive/Skrivebord/Study_tracker/Classifier/Classifier.ipynb#X51sZmlsZQ%3D%3D?line=14'>15</a>\u001b[0m vector \u001b[39m=\u001b[39m np\u001b[39m.\u001b[39mzeros(\u001b[39m300\u001b[39m)\n\u001b[0;32m     <a href='vscode-notebook-cell:/c%3A/Users/Lenovo/OneDrive/Skrivebord/Study_tracker/Classifier/Classifier.ipynb#X51sZmlsZQ%3D%3D?line=15'>16</a>\u001b[0m \u001b[39mfor\u001b[39;00m word \u001b[39min\u001b[39;00m document:\n\u001b[1;32m---> <a href='vscode-notebook-cell:/c%3A/Users/Lenovo/OneDrive/Skrivebord/Study_tracker/Classifier/Classifier.ipynb#X51sZmlsZQ%3D%3D?line=16'>17</a>\u001b[0m     \u001b[39mif\u001b[39;00m word \u001b[39min\u001b[39;49;00m \u001b[39mself\u001b[39;49m\u001b[39m.\u001b[39;49mglove:\n\u001b[0;32m     <a href='vscode-notebook-cell:/c%3A/Users/Lenovo/OneDrive/Skrivebord/Study_tracker/Classifier/Classifier.ipynb#X51sZmlsZQ%3D%3D?line=17'>18</a>\u001b[0m         vector \u001b[39m+\u001b[39m\u001b[39m=\u001b[39m \u001b[39mself\u001b[39m\u001b[39m.\u001b[39mglove[word]\n\u001b[0;32m     <a href='vscode-notebook-cell:/c%3A/Users/Lenovo/OneDrive/Skrivebord/Study_tracker/Classifier/Classifier.ipynb#X51sZmlsZQ%3D%3D?line=18'>19</a>\u001b[0m results\u001b[39m.\u001b[39mappend(vector)\n",
      "\u001b[1;31mValueError\u001b[0m: I/O operation on closed file."
     ]
    }
   ],
   "source": [
    "\n",
    "\n",
    "dataset = pd.read_csv(\"./dataframes/dataset.csv\")\n",
    "\n",
    "X = dataset[\"X\"].to_numpy()\n",
    "Y = dataset[\"Y\"].to_numpy()\n",
    "\n",
    "#split into train and test dataset\n",
    "X_train, X_test, Y_train, Y_test = train_test_split(X, Y, test_size=0.15, random_state=42, shuffle=True)\n",
    "\n",
    "#Preprocessing methods\n",
    "method1 = TfidfVectorizer(tokenizer=My_Tokenizer(),stop_words=\"english\", lowercase=True, strip_accents=\"unicode\") \n",
    "method2 = TfidfVectorizer(tokenizer=My_Tokenizer(stem=True),stop_words=\"english\", lowercase=True, strip_accents=\"unicode\")\n",
    "method3 = TfidfVectorizer(tokenizer=My_Tokenizer(lemma=True),stop_words=\"english\", lowercase=True, strip_accents=\"unicode\")\n",
    "method4 = glove()\n",
    "dataset_methods = [method1, method2, method3]\n",
    "#print(dataset_methods)\n",
    "vectorizer = method4\n",
    "print(Y_train)\n",
    "X_train = vectorizer.fit_transform(X_train)\n",
    "X_test = vectorizer.transform(X_test)\n",
    "\n",
    "model = KNN(n_neighbors=5)\n",
    "model = MLPClassifier(hidden_layer_sizes=(5,3))\n",
    "\n",
    "print(model.fit(X_train,Y_train))\n",
    "\n",
    "print(sum(model.predict(X_test) == Y_test)/len(Y_test))\n",
    "\n"
   ]
  },
  {
   "cell_type": "code",
   "execution_count": null,
   "metadata": {},
   "outputs": [],
   "source": [
    "print(sum(model.predict(X_test) == Y_test)/len(Y_test))\n"
   ]
  },
  {
   "cell_type": "code",
   "execution_count": null,
   "metadata": {},
   "outputs": [],
   "source": [
    "#prediction count\n",
    "unique, counts = np.unique(model.predict(X_test), return_counts=True)\n",
    "print(unique)\n",
    "print(counts)\n",
    "#true count\n",
    "unique, counts = np.unique(Y_test, return_counts=True)\n",
    "print(unique)\n",
    "print(counts)\n"
   ]
  },
  {
   "cell_type": "code",
   "execution_count": 79,
   "metadata": {},
   "outputs": [
    {
     "name": "stdout",
     "output_type": "stream",
     "text": [
      "['productive']\n"
     ]
    }
   ],
   "source": [
    "value = vectorizer.transform([\"today lecture will be on C++ arrays\"])\n",
    "print(model.predict(value))"
   ]
  }
 ],
 "metadata": {
  "kernelspec": {
   "display_name": "NPL",
   "language": "python",
   "name": "python3"
  },
  "language_info": {
   "codemirror_mode": {
    "name": "ipython",
    "version": 3
   },
   "file_extension": ".py",
   "mimetype": "text/x-python",
   "name": "python",
   "nbconvert_exporter": "python",
   "pygments_lexer": "ipython3",
   "version": "3.11.4"
  },
  "orig_nbformat": 4
 },
 "nbformat": 4,
 "nbformat_minor": 2
}
