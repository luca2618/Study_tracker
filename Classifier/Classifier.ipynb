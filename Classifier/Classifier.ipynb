{
 "cells": [
  {
   "cell_type": "code",
   "execution_count": null,
   "metadata": {},
   "outputs": [],
   "source": [
    "import pandas as pd\n",
    "import math\n",
    "import numpy as np\n",
    "from sklearn.feature_extraction.text import CountVectorizer\n",
    "from sklearn.feature_extraction.text import TfidfVectorizer\n",
    "from sklearn.model_selection import KFold\n",
    "from sklearn.model_selection import train_test_split\n",
    "from sklearn.model_selection import GridSearchCV\n",
    "from sklearn.pipeline import Pipeline\n",
    "\n",
    "from sklearn.linear_model import LogisticRegression\n",
    "from sklearn.linear_model import Perceptron\n",
    "from sklearn.svm import LinearSVC\n",
    "from sklearn.pipeline import make_pipeline\n",
    "from sklearn.preprocessing import StandardScaler\n",
    "import warnings\n",
    "warnings.simplefilter(\"ignore\")\n",
    "import pickle\n",
    "import nltk\n",
    "from nltk.corpus import stopwords\n",
    "from nltk.stem import WordNetLemmatizer\n",
    "from nltk.stem import PorterStemmer\n",
    "from nltk import word_tokenize\n",
    "import string"
   ]
  },
  {
   "cell_type": "code",
   "execution_count": null,
   "metadata": {},
   "outputs": [],
   "source": [
    "#Tokenizer with added lemmatization and stemming options\n",
    "class My_Tokenizer(object):\n",
    "    def __init__(self, lemma=False, stem=False):\n",
    "        self.lemma = lemma\n",
    "        self.stem = stem\n",
    "        self.Lemmatizer = WordNetLemmatizer()\n",
    "        self.Stemmer = PorterStemmer()\n",
    "        self.translate_table = dict((ord(char), None) for char in string.punctuation)  \n",
    "    def __call__(self, sentence):\n",
    "        #remove punctuation\n",
    "        sentence = sentence.translate(self.translate_table)\n",
    "        if self.lemma:\n",
    "            return [self.Lemmatizer.lemmatize(word.lower()) for word in word_tokenize(sentence) if word.lower() not in stopwords]\n",
    "        elif self.stem:\n",
    "            return [self.Stemmer.stem(word.lower()) for word in word_tokenize(sentence) if word.lower() not in stopwords]\n",
    "        else:\n",
    "            return [word.lower() for word in word_tokenize(sentence) if word.lower() not in stopwords]"
   ]
  },
  {
   "cell_type": "code",
   "execution_count": 43,
   "metadata": {},
   "outputs": [],
   "source": [
    "\n",
    "\n",
    "\n",
    "class glove():\n",
    "    def __init__(self) -> None:\n",
    "        #self.glove = glove_loaded\n",
    "        with open('data.pickle', 'rb') as f:\n",
    "            self.glove = pickle.load(f)\n",
    "            f.close()\n",
    "        self.tokenizer = My_Tokenizer()\n",
    "    def fit():\n",
    "        pass\n",
    "    def fit_transform(self, data):\n",
    "        return self.transform(data)\n",
    "    def transform(self, data):\n",
    "        results = []\n",
    "        for document in data:\n",
    "            document = self.tokenizer(document)\n",
    "            vector = np.zeros(300)\n",
    "            for word in document:\n",
    "                if word in self.glove:\n",
    "                    vector += self.glove[word]\n",
    "            results.append(vector)\n",
    "        results = np.array(results)\n",
    "        return results\n",
    "\n"
   ]
  },
  {
   "cell_type": "code",
   "execution_count": 42,
   "metadata": {},
   "outputs": [
    {
     "ename": "AttributeError",
     "evalue": "'float' object has no attribute 'lower'",
     "output_type": "error",
     "traceback": [
      "\u001b[1;31m---------------------------------------------------------------------------\u001b[0m",
      "\u001b[1;31mAttributeError\u001b[0m                            Traceback (most recent call last)",
      "\u001b[1;32mc:\\Users\\Lenovo\\OneDrive\\Skrivebord\\Study_tracker\\Classifier\\Classifier.ipynb Cell 2\u001b[0m line \u001b[0;36m1\n\u001b[0;32m     <a href='vscode-notebook-cell:/c%3A/Users/Lenovo/OneDrive/Skrivebord/Study_tracker/Classifier/Classifier.ipynb#W6sZmlsZQ%3D%3D?line=14'>15</a>\u001b[0m \u001b[39m#print(dataset_methods)\u001b[39;00m\n\u001b[0;32m     <a href='vscode-notebook-cell:/c%3A/Users/Lenovo/OneDrive/Skrivebord/Study_tracker/Classifier/Classifier.ipynb#W6sZmlsZQ%3D%3D?line=15'>16</a>\u001b[0m vectorizer \u001b[39m=\u001b[39m method4\n\u001b[1;32m---> <a href='vscode-notebook-cell:/c%3A/Users/Lenovo/OneDrive/Skrivebord/Study_tracker/Classifier/Classifier.ipynb#W6sZmlsZQ%3D%3D?line=16'>17</a>\u001b[0m X_train \u001b[39m=\u001b[39m vectorizer\u001b[39m.\u001b[39;49mfit_transform(X_train)\n\u001b[0;32m     <a href='vscode-notebook-cell:/c%3A/Users/Lenovo/OneDrive/Skrivebord/Study_tracker/Classifier/Classifier.ipynb#W6sZmlsZQ%3D%3D?line=17'>18</a>\u001b[0m X_test \u001b[39m=\u001b[39m vectorizer\u001b[39m.\u001b[39mtransform(X_test)\n\u001b[0;32m     <a href='vscode-notebook-cell:/c%3A/Users/Lenovo/OneDrive/Skrivebord/Study_tracker/Classifier/Classifier.ipynb#W6sZmlsZQ%3D%3D?line=19'>20</a>\u001b[0m model \u001b[39m=\u001b[39m KNN(n_neighbors\u001b[39m=\u001b[39m\u001b[39m5\u001b[39m)\n",
      "\u001b[1;32mc:\\Users\\Lenovo\\OneDrive\\Skrivebord\\Study_tracker\\Classifier\\Classifier.ipynb Cell 2\u001b[0m line \u001b[0;36m1\n\u001b[0;32m     <a href='vscode-notebook-cell:/c%3A/Users/Lenovo/OneDrive/Skrivebord/Study_tracker/Classifier/Classifier.ipynb#W6sZmlsZQ%3D%3D?line=12'>13</a>\u001b[0m \u001b[39mdef\u001b[39;00m \u001b[39mfit_transform\u001b[39m(\u001b[39mself\u001b[39m, data):\n\u001b[1;32m---> <a href='vscode-notebook-cell:/c%3A/Users/Lenovo/OneDrive/Skrivebord/Study_tracker/Classifier/Classifier.ipynb#W6sZmlsZQ%3D%3D?line=13'>14</a>\u001b[0m     \u001b[39mreturn\u001b[39;00m \u001b[39mself\u001b[39;49m\u001b[39m.\u001b[39;49mtransform(data)\n",
      "\u001b[1;32mc:\\Users\\Lenovo\\OneDrive\\Skrivebord\\Study_tracker\\Classifier\\Classifier.ipynb Cell 2\u001b[0m line \u001b[0;36m1\n\u001b[0;32m     <a href='vscode-notebook-cell:/c%3A/Users/Lenovo/OneDrive/Skrivebord/Study_tracker/Classifier/Classifier.ipynb#W6sZmlsZQ%3D%3D?line=15'>16</a>\u001b[0m results \u001b[39m=\u001b[39m []\n\u001b[0;32m     <a href='vscode-notebook-cell:/c%3A/Users/Lenovo/OneDrive/Skrivebord/Study_tracker/Classifier/Classifier.ipynb#W6sZmlsZQ%3D%3D?line=16'>17</a>\u001b[0m \u001b[39mfor\u001b[39;00m document \u001b[39min\u001b[39;00m data:\n\u001b[1;32m---> <a href='vscode-notebook-cell:/c%3A/Users/Lenovo/OneDrive/Skrivebord/Study_tracker/Classifier/Classifier.ipynb#W6sZmlsZQ%3D%3D?line=17'>18</a>\u001b[0m     document \u001b[39m=\u001b[39m \u001b[39mself\u001b[39;49m\u001b[39m.\u001b[39;49mtokenizer(document)\n\u001b[0;32m     <a href='vscode-notebook-cell:/c%3A/Users/Lenovo/OneDrive/Skrivebord/Study_tracker/Classifier/Classifier.ipynb#W6sZmlsZQ%3D%3D?line=18'>19</a>\u001b[0m     vector \u001b[39m=\u001b[39m np\u001b[39m.\u001b[39mzeros(\u001b[39m300\u001b[39m)\n\u001b[0;32m     <a href='vscode-notebook-cell:/c%3A/Users/Lenovo/OneDrive/Skrivebord/Study_tracker/Classifier/Classifier.ipynb#W6sZmlsZQ%3D%3D?line=19'>20</a>\u001b[0m     \u001b[39mfor\u001b[39;00m word \u001b[39min\u001b[39;00m document:\n",
      "\u001b[1;32mc:\\Users\\Lenovo\\OneDrive\\Skrivebord\\Study_tracker\\Classifier\\Classifier.ipynb Cell 2\u001b[0m line \u001b[0;36m1\n\u001b[0;32m     <a href='vscode-notebook-cell:/c%3A/Users/Lenovo/OneDrive/Skrivebord/Study_tracker/Classifier/Classifier.ipynb#W6sZmlsZQ%3D%3D?line=9'>10</a>\u001b[0m \u001b[39mdef\u001b[39;00m \u001b[39m__call__\u001b[39m(\u001b[39mself\u001b[39m, sentence):\n\u001b[0;32m     <a href='vscode-notebook-cell:/c%3A/Users/Lenovo/OneDrive/Skrivebord/Study_tracker/Classifier/Classifier.ipynb#W6sZmlsZQ%3D%3D?line=10'>11</a>\u001b[0m     \u001b[39m#remove punctuation\u001b[39;00m\n\u001b[1;32m---> <a href='vscode-notebook-cell:/c%3A/Users/Lenovo/OneDrive/Skrivebord/Study_tracker/Classifier/Classifier.ipynb#W6sZmlsZQ%3D%3D?line=11'>12</a>\u001b[0m     sentence \u001b[39m=\u001b[39m sentence\u001b[39m.\u001b[39;49mlower()\n\u001b[0;32m     <a href='vscode-notebook-cell:/c%3A/Users/Lenovo/OneDrive/Skrivebord/Study_tracker/Classifier/Classifier.ipynb#W6sZmlsZQ%3D%3D?line=12'>13</a>\u001b[0m     sentence \u001b[39m=\u001b[39m sentence\u001b[39m.\u001b[39mtranslate(\u001b[39mself\u001b[39m\u001b[39m.\u001b[39mtranslate_table)\n\u001b[0;32m     <a href='vscode-notebook-cell:/c%3A/Users/Lenovo/OneDrive/Skrivebord/Study_tracker/Classifier/Classifier.ipynb#W6sZmlsZQ%3D%3D?line=13'>14</a>\u001b[0m     \u001b[39mif\u001b[39;00m \u001b[39mself\u001b[39m\u001b[39m.\u001b[39mlemma:\n",
      "\u001b[1;31mAttributeError\u001b[0m: 'float' object has no attribute 'lower'"
     ]
    }
   ],
   "source": [
    "\n",
    "\n",
    "dataset = pd.read_csv(\"./dataframes/dataset.csv\")\n",
    "\n",
    "X = dataset[\"X\"].to_numpy()\n",
    "Y = dataset[\"Y\"].to_numpy()\n",
    "\n",
    "#split into train and test dataset\n",
    "X_train, X_test, Y_train, Y_test = train_test_split(X, Y, test_size=0.15, random_state=42, shuffle=True)\n",
    "\n",
    "#Preprocessing methods\n",
    "method1 = TfidfVectorizer(tokenizer=My_Tokenizer(),stop_words=\"english\", lowercase=True, strip_accents=\"unicode\") \n",
    "method2 = TfidfVectorizer(tokenizer=My_Tokenizer(stem=True),stop_words=\"english\", lowercase=True, strip_accents=\"unicode\")\n",
    "method3 = TfidfVectorizer(tokenizer=My_Tokenizer(lemma=True),stop_words=\"english\", lowercase=True, strip_accents=\"unicode\")\n",
    "method4 = glove()\n",
    "dataset_methods = [method1, method2, method3]\n",
    "#print(dataset_methods)\n",
    "vectorizer = method4\n",
    "X_train = vectorizer.fit_transform(X_train)\n",
    "X_test = vectorizer.transform(X_test)\n",
    "\n",
    "model = KNN(n_neighbors=5)\n",
    "model = MLPClassifier(hidden_layer_sizes=(5,3))\n",
    "\n",
    "print(model.fit(X_train,Y_train))\n",
    "\n",
    "print(sum(model.predict(X_test) == Y_test)/len(Y_test))\n",
    "\n"
   ]
  },
  {
   "cell_type": "code",
   "execution_count": null,
   "metadata": {},
   "outputs": [],
   "source": [
    "print(sum(model.predict(X_test) == Y_test)/len(Y_test))\n"
   ]
  },
  {
   "cell_type": "code",
   "execution_count": 40,
   "metadata": {},
   "outputs": [
    {
     "name": "stdout",
     "output_type": "stream",
     "text": [
      "['productive' 'unproductive']\n",
      "[  4395 196023]\n"
     ]
    }
   ],
   "source": [
    "unique, counts = np.unique(Y, return_counts=True)\n",
    "print(unique)\n",
    "print(counts)"
   ]
  },
  {
   "cell_type": "code",
   "execution_count": null,
   "metadata": {},
   "outputs": [],
   "source": [
    "#prediction count\n",
    "unique, counts = np.unique(model.predict(X_test), return_counts=True)\n",
    "print(unique)\n",
    "print(counts)\n",
    "#true count\n",
    "unique, counts = np.unique(Y_test, return_counts=True)\n",
    "print(unique)\n",
    "print(counts)\n"
   ]
  },
  {
   "cell_type": "code",
   "execution_count": 27,
   "metadata": {},
   "outputs": [
    {
     "name": "stdout",
     "output_type": "stream",
     "text": [
      "['unproductive']\n"
     ]
    }
   ],
   "source": [
    "value = vectorizer.transform([\"math\"])\n",
    "print(model.predict(value))"
   ]
  }
 ],
 "metadata": {
  "kernelspec": {
   "display_name": "NPL",
   "language": "python",
   "name": "python3"
  },
  "language_info": {
   "codemirror_mode": {
    "name": "ipython",
    "version": 3
   },
   "file_extension": ".py",
   "mimetype": "text/x-python",
   "name": "python",
   "nbconvert_exporter": "python",
   "pygments_lexer": "ipython3",
   "version": "3.11.4"
  },
  "orig_nbformat": 4
 },
 "nbformat": 4,
 "nbformat_minor": 2
}
