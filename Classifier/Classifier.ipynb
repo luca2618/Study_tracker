{
 "cells": [
  {
   "cell_type": "code",
   "execution_count": 6,
   "metadata": {},
   "outputs": [],
   "source": [
    "import pandas as pd\n",
    "import math\n",
    "import numpy as np\n",
    "from sklearn.feature_extraction.text import CountVectorizer\n",
    "from sklearn.feature_extraction.text import TfidfVectorizer\n",
    "from sklearn.model_selection import KFold\n",
    "from sklearn.model_selection import train_test_split\n",
    "from sklearn.model_selection import GridSearchCV\n",
    "from sklearn.neural_network import MLPClassifier\n",
    "from sklearn.neighbors import KNeighborsClassifier as KNN\n",
    "from sklearn.pipeline import Pipeline\n",
    "\n",
    "from sklearn.linear_model import LogisticRegression\n",
    "from sklearn.linear_model import Perceptron\n",
    "from sklearn.svm import LinearSVC\n",
    "from sklearn.pipeline import make_pipeline\n",
    "from sklearn.preprocessing import StandardScaler\n",
    "import warnings\n",
    "warnings.simplefilter(\"ignore\")\n",
    "import pickle\n",
    "import nltk\n",
    "from nltk.corpus import stopwords\n",
    "from nltk.stem import WordNetLemmatizer\n",
    "from nltk.stem import PorterStemmer\n",
    "from nltk import word_tokenize\n",
    "import string"
   ]
  },
  {
   "cell_type": "code",
   "execution_count": 2,
   "metadata": {},
   "outputs": [],
   "source": [
    "#Tokenizer with added lemmatization and stemming options\n",
    "class My_Tokenizer(object):\n",
    "    def __init__(self, lemma=False, stem=False):\n",
    "        self.lemma = lemma\n",
    "        self.stem = stem\n",
    "        self.Lemmatizer = WordNetLemmatizer()\n",
    "        self.Stemmer = PorterStemmer()\n",
    "        self.translate_table = dict((ord(char), None) for char in string.punctuation)\n",
    "        self.stopwords = stopwords.words('english')\n",
    "    def __call__(self, sentence):\n",
    "        sentence = sentence.translate(self.translate_table)\n",
    "        if self.lemma:\n",
    "            return [self.Lemmatizer.lemmatize(word.lower()) for word in word_tokenize(sentence) if not word.lower() in self.stopwords]\n",
    "        elif self.stem:\n",
    "            return [self.Stemmer.stem(word.lower()) for word in word_tokenize(sentence) if not word.lower() in self.stopwords]\n",
    "        else:\n",
    "            return [word.lower() for word in word_tokenize(sentence) if not word.lower() in self.stopwords]"
   ]
  },
  {
   "cell_type": "code",
   "execution_count": 3,
   "metadata": {},
   "outputs": [],
   "source": [
    "class glove():\n",
    "    def __init__(self) -> None:\n",
    "        #self.glove = glove_loaded\n",
    "        with open('data.pickle', 'rb') as f:\n",
    "            self.glove = pickle.load(f)\n",
    "            f.close()\n",
    "        self.tokenizer = My_Tokenizer()\n",
    "    def fit():\n",
    "        pass\n",
    "    def fit_transform(self, data):\n",
    "        return self.transform(data)\n",
    "    def transform(self, data):\n",
    "        results = []\n",
    "        for document in data:\n",
    "            document = self.tokenizer(document)\n",
    "            vector = np.zeros(300)\n",
    "            for word in document:\n",
    "                if word in self.glove:\n",
    "                    vector += self.glove[word]\n",
    "            results.append(vector)\n",
    "        results = np.array(results)\n",
    "        return results\n",
    "\n"
   ]
  },
  {
   "cell_type": "code",
   "execution_count": 10,
   "metadata": {},
   "outputs": [],
   "source": [
    "dataset = pd.read_csv(\"./dataframes/dataset.csv\")\n",
    "\n",
    "X = dataset[\"X\"].to_numpy()\n",
    "Y = dataset[\"Y\"].to_numpy()"
   ]
  },
  {
   "cell_type": "code",
   "execution_count": 12,
   "metadata": {},
   "outputs": [
    {
     "name": "stdout",
     "output_type": "stream",
     "text": [
      "MLPClassifier(hidden_layer_sizes=(5, 3))\n",
      "0.9927398528480241\n"
     ]
    }
   ],
   "source": [
    "\n",
    "\n",
    "#split into train and test dataset\n",
    "X_train, X_test, Y_train, Y_test = train_test_split(X, Y, test_size=0.15, random_state=42, shuffle=True)\n",
    "\n",
    "#Preprocessing methods\n",
    "method1 = TfidfVectorizer(tokenizer=My_Tokenizer(),stop_words=\"english\", lowercase=True, strip_accents=\"unicode\") \n",
    "method2 = TfidfVectorizer(tokenizer=My_Tokenizer(stem=True),stop_words=\"english\", lowercase=True, strip_accents=\"unicode\")\n",
    "method3 = TfidfVectorizer(tokenizer=My_Tokenizer(lemma=True),stop_words=\"english\", lowercase=True, strip_accents=\"unicode\")\n",
    "method4 = glove()\n",
    "dataset_methods = [method1, method2, method3]\n",
    "#print(dataset_methods)\n",
    "vectorizer = method4\n",
    "X_train = vectorizer.fit_transform(X_train)\n",
    "X_test = vectorizer.transform(X_test)\n",
    "\n",
    "model = MLPClassifier(hidden_layer_sizes=(5,3))\n",
    "\n",
    "model.fit(X_train,Y_train)\n",
    "\n",
    "print(sum(model.predict(X_test) == Y_test)/len(Y_test))\n",
    "\n"
   ]
  },
  {
   "cell_type": "code",
   "execution_count": null,
   "metadata": {},
   "outputs": [],
   "source": [
    "#prediction count\n",
    "unique, counts = np.unique(model.predict(X_test), return_counts=True)\n",
    "print(unique)\n",
    "print(counts)\n",
    "#true count\n",
    "unique, counts = np.unique(Y_test, return_counts=True)\n",
    "print(unique)\n",
    "print(counts)\n"
   ]
  },
  {
   "cell_type": "code",
   "execution_count": 19,
   "metadata": {},
   "outputs": [
    {
     "name": "stdout",
     "output_type": "stream",
     "text": [
      "['productive' 'unproductive']\n",
      "[214435 196023]\n"
     ]
    }
   ],
   "source": [
    "unique, counts = np.unique(Y, return_counts=True)\n",
    "print(unique)\n",
    "print(counts)"
   ]
  },
  {
   "cell_type": "code",
   "execution_count": null,
   "metadata": {},
   "outputs": [],
   "source": [
    "#prediction count\n",
    "unique, counts = np.unique(model.predict(X_test), return_counts=True)\n",
    "print(unique)\n",
    "print(counts)\n",
    "#true count\n",
    "unique, counts = np.unique(Y_test, return_counts=True)\n",
    "print(unique)\n",
    "print(counts)\n"
   ]
  },
  {
   "cell_type": "code",
   "execution_count": 58,
   "metadata": {},
   "outputs": [
    {
     "name": "stdout",
     "output_type": "stream",
     "text": [
      "['productive']\n"
     ]
    }
   ],
   "source": [
    "value = vectorizer.transform([\"In condensed matter physics, a Bose–Einstein condensate (BEC) is a state of matter that is typically formed when a gas of bosons at very low densities is cooled to temperatures very close to absolute zero (−273.15 °C or −459.67 °F). Under such conditions, a large fraction of bosons occupy the lowest quantum state, at which microscopic quantum mechanical phenomena, particularly wavefunction interference, become apparent macroscopically.\"])\n",
    "print(model.predict(value))"
   ]
  },
  {
   "cell_type": "code",
   "execution_count": 56,
   "metadata": {},
   "outputs": [],
   "source": [
    "# save model\n",
    "pickle.dump(model, open(\"model.pickle\", \"wb\"))\n",
    "\n",
    "# load model\n",
    "#loaded_model = pickle.load(open(filename, \"rb\"))"
   ]
  }
 ],
 "metadata": {
  "kernelspec": {
   "display_name": "NPL",
   "language": "python",
   "name": "python3"
  },
  "language_info": {
   "codemirror_mode": {
    "name": "ipython",
    "version": 3
   },
   "file_extension": ".py",
   "mimetype": "text/x-python",
   "name": "python",
   "nbconvert_exporter": "python",
   "pygments_lexer": "ipython3",
   "version": "3.11.4"
  },
  "orig_nbformat": 4
 },
 "nbformat": 4,
 "nbformat_minor": 2
}
