{
 "cells": [
  {
   "cell_type": "code",
   "execution_count": null,
   "metadata": {},
   "outputs": [],
   "source": [
    "#code articles dataset\n",
    "import pandas as pd\n",
    "from scrape import get_articles_dataset\n",
    "article_df = get_articles_dataset('datasets/code_articles.csv', limit=1500, start=1001)\n",
    "# article_df = get_articles_dataset('code_articles.csv', limit=1500, start=1001)\n",
    "clean_article = {'X': [str(article) for article in article_df], 'Y': 'productive'}\n",
    "clean_article = pd.DataFrame(clean_article)\n",
    "\n",
    "print(clean_article.head())"
   ]
  },
  {
   "cell_type": "code",
   "execution_count": null,
   "metadata": {},
   "outputs": [],
   "source": [
    "#reddit jokes dataset\n",
    "reddit_jokes = pd.read_json('datasets/reddit_jokes.json')\n",
    "print(reddit_jokes['body'].head(1))\n",
    "clean_reddit_jokes = {\"X\":[str(reddit_jokes[\"title\"][i])+\" \"+str(reddit_jokes[\"body\"][i]) for i in range(reddit_jokes.shape[0])]}\n",
    "clean_reddit_jokes[\"Y\"] = [\"unproductive\" for i in range(reddit_jokes.shape[0])]\n",
    "clean_reddit_jokes = pd.DataFrame(clean_reddit_jokes)\n",
    "\n",
    "print(clean_reddit_jokes)\n"
   ]
  },
  {
   "cell_type": "code",
   "execution_count": null,
   "metadata": {},
   "outputs": [],
   "source": [
    "#website dataset\n",
    "\n",
    "website = pd.read_csv(\"datasets/website.csv\")\n",
    "print(website.columns)\n",
    "unproductiveSites = [\"Travel\", \"Social Networking and Messaging\", \"Streaming Services\", \"Sports\", \"Photography\", \"News\", \"Health and Fitness\", \"Games\", \"E-Commerce\", \"Forums\", \"Food\", \"Adult\"]\n",
    "\n",
    "clean_website = {\"X\":[str(website[\"cleaned_website_text\"][i]) for i in range(website.shape[0])]}\n",
    "for i in range(website.shape[0]):\n",
    "    if str(website[\"Category\"][i] in unproductiveSites):\n",
    "        clean_website[\"Y\"] = \"unproductive\"\n",
    "    else:\n",
    "        clean_website[\"Y\"] = \"productive\"\n",
    "\n",
    "clean_website = pd.DataFrame(clean_website)\n",
    "\n",
    "print(clean_website)\n",
    "\n"
   ]
  },
  {
   "cell_type": "code",
   "execution_count": null,
   "metadata": {},
   "outputs": [],
   "source": [
    "result = pd.concat([df1, df2], ignore_index=True)"
   ]
  },
  {
   "cell_type": "code",
   "execution_count": null,
   "metadata": {},
   "outputs": [],
   "source": [
    "print(clean_article)"
   ]
  },
  {
   "cell_type": "code",
   "execution_count": null,
   "metadata": {},
   "outputs": [],
   "source": [
    "netflix = pd.read_csv(\"./datasets/Netflix.csv\")\n",
    "clean_netflix = {\"X\":[str(netflix[\"title\"][i])+\" \"+str(netflix[\"body\"][i]) for i in range(netflix.shape[0])]}\n",
    "clean_netflix[\"Y\"] = [\"unproductive\" for i in range(netflix.shape[0])]\n",
    "clean_netflix = pd.DataFrame(clean_netflix)"
   ]
  },
  {
   "cell_type": "code",
   "execution_count": null,
   "metadata": {},
   "outputs": [],
   "source": [
    "\n",
    "clean_article = pd.concat([pd.read_csv(\"./dataframes/article\"+str(x)+\".csv\") for x in range(500,4000,500)], ignore_index=True)\n",
    "\n",
    "\n",
    "result = pd.concat([clean_website,clean_reddit_jokes,clean_netflix, clean_article)], ignore_index=True)\n",
    "\n",
    "result.to_csv(\"./dataframes/dataset.csv\",  index=False)\n",
    "\n",
    "\n"
   ]
  }
 ],
 "metadata": {
  "kernelspec": {
   "display_name": "NPL",
   "language": "python",
   "name": "python3"
  },
  "language_info": {
   "codemirror_mode": {
    "name": "ipython",
    "version": 3
   },
   "file_extension": ".py",
   "mimetype": "text/x-python",
   "name": "python",
   "nbconvert_exporter": "python",
   "pygments_lexer": "ipython3",
   "version": "3.11.4"
  },
  "orig_nbformat": 4
 },
 "nbformat": 4,
 "nbformat_minor": 2
}
