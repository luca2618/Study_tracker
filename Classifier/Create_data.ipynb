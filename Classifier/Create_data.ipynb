{
 "cells": [
  {
   "cell_type": "code",
   "execution_count": null,
   "metadata": {},
   "outputs": [],
   "source": [
    "#code articles dataset\n",
    "import pandas as pd\n",
    "from scrape import get_articles_dataset\n",
    "article_df = get_articles_dataset('datasets/code_articles.csv', limit=1500, start=1001)\n",
    "# article_df = get_articles_dataset('code_articles.csv', limit=1500, start=1001)\n",
    "clean_article = {'X': [str(article) for article in article_df], 'Y': 'productive'}\n",
    "clean_article = pd.DataFrame(clean_article)\n",
    "\n",
    "print(clean_article.head())"
   ]
  },
  {
   "cell_type": "code",
   "execution_count": 4,
   "metadata": {},
   "outputs": [],
   "source": [
    "#website dataset\n",
    "\n",
    "website = pd.read_csv(\"datasets/website.csv\")\n",
    "#print(website.columns)\n",
    "unproductiveSites = [\"Travel\", \"Social Networking and Messaging\", \"Streaming Services\", \"Sports\", \"Photography\", \"News\", \"Health and Fitness\", \"Games\", \"E-Commerce\", \"Forums\", \"Food\", \"Adult\"]\n",
    "\n",
    "clean_website = {\"X\":[str(website[\"cleaned_website_text\"][i]) for i in range(website.shape[0])]}\n",
    "clean_website[\"Y\"] = [\"NAN\"]*website.shape[0]\n",
    "for i in range(website.shape[0]):\n",
    "    if str(website[\"Category\"][i]) in unproductiveSites:\n",
    "        clean_website[\"Y\"][i] = \"unproductive\"\n",
    "    else:\n",
    "        clean_website[\"Y\"][i] = \"productive\"\n",
    "\n",
    "\n",
    "clean_website = pd.DataFrame(clean_website)\n",
    "\n"
   ]
  },
  {
   "cell_type": "code",
   "execution_count": null,
   "metadata": {},
   "outputs": [],
   "source": [
    "result = pd.concat([df1, df2], ignore_index=True)"
   ]
  },
  {
   "cell_type": "code",
   "execution_count": 5,
   "metadata": {},
   "outputs": [
    {
     "name": "stdout",
     "output_type": "stream",
     "text": [
      "                                                      X             Y\n",
      "0     official site good hotel accommodation big sav...  unproductive\n",
      "1     expedia hotel book sites like use vacation wor...  unproductive\n",
      "2     tripadvisor hotel book sites like previously d...  unproductive\n",
      "3     cheap flights search compare flights momondo f...  unproductive\n",
      "4     bot create free account create free account si...  unproductive\n",
      "...                                                 ...           ...\n",
      "1403  old nude women porn mature granny sex horny ol...  unproductive\n",
      "1404  bdsm cams bdsm chat bondage cams free bdsm vid...  unproductive\n",
      "1405  porno dvd online european porn dvd cheap adult...  unproductive\n",
      "1406  anal dream house anal dream house anal dream h...  unproductive\n",
      "1407  world sex news daily sex news adult news eroti...  unproductive\n",
      "\n",
      "[1408 rows x 2 columns]\n"
     ]
    }
   ],
   "source": [
    "import pandas as pd\n",
    "clean_article = pd.concat([pd.read_csv(\"./dataframes/article\"+str(x)+\".csv\") for x in range(500,4500,500)], ignore_index=True)\n",
    "clean_medical = pd.read_csv(\"./dataframes/medicaltrain.csv\")\n",
    "clean_reddit_jokes = pd.read_csv(\"./dataframes/reddit_jokes_set.csv\")\n",
    "clean_research = pd.read_csv(\"./dataframes/research_papers_set.csv\")\n",
    "clean_netflix = pd.read_csv(\"./dataframes/netflix.csv\")\n",
    "\n",
    "print(clean_website)\n",
    "\n",
    "#result = pd.concat([clean_website,clean_reddit_jokes,clean_netflix, clean_article,clean_medical, clean_research], ignore_index=True)\n",
    "\n",
    "#print(result)\n",
    "\n",
    "#result.to_csv(\"./dataframes/dataset.csv\",  index=False)\n",
    "\n",
    "\n"
   ]
  }
 ],
 "metadata": {
  "kernelspec": {
   "display_name": "NPL",
   "language": "python",
   "name": "python3"
  },
  "language_info": {
   "codemirror_mode": {
    "name": "ipython",
    "version": 3
   },
   "file_extension": ".py",
   "mimetype": "text/x-python",
   "name": "python",
   "nbconvert_exporter": "python",
   "pygments_lexer": "ipython3",
   "version": "3.11.4"
  },
  "orig_nbformat": 4
 },
 "nbformat": 4,
 "nbformat_minor": 2
}
